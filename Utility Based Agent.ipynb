{
 "cells": [
  {
   "cell_type": "code",
   "execution_count": 8,
   "id": "bfbf77c9-3341-4735-b63b-7bb8f78cd5c8",
   "metadata": {},
   "outputs": [
    {
     "name": "stdout",
     "output_type": "stream",
     "text": [
      "Electricity price: 0.71\n",
      "Comfort preference: 5\n",
      "Appliance states: {'heater': True, 'air_conditioner': False, 'washing_machine': False}\n",
      "Reduce appliance usage to save energy.\n"
     ]
    }
   ],
   "source": [
    "import random\n",
    "\n",
    "class SmartHomeEnergyAgent:\n",
    "    def __init__(self):\n",
    "        self.electricity_price = random.uniform(0.1, 1.0)\n",
    "        self.comfort_preference = random.randint(1, 10)\n",
    "        self.appliance_states = {\n",
    "            \"heater\": random.choice([True, False]),\n",
    "            \"air_conditioner\": random.choice([True, False]),\n",
    "            \"washing_machine\": random.choice([True, False])\n",
    "        }\n",
    "    \n",
    "    def calculate_utility(self):\n",
    "        cost_factor = 1 / (self.electricity_price + 1) \n",
    "        comfort_factor = self.comfort_preference / 10  \n",
    "        appliance_usage = sum(self.appliance_states.values()) / len(self.appliance_states)\n",
    "        return (cost_factor * 0.5) + (comfort_factor * 0.4) - (appliance_usage * 0.1)\n",
    "    \n",
    "    def recommend_actions(self):\n",
    "        utility_score = self.calculate_utility()\n",
    "        if utility_score < 0.5:\n",
    "            return \"Reduce appliance usage to save energy.\"\n",
    "        elif utility_score > 0.7:\n",
    "            return \"You can use more appliances without much cost impact.\"\n",
    "        else:\n",
    "            return \"Your energy consumption is balanced.\"\n",
    "    \n",
    "    def adjust_appliance(self, appliance, state):\n",
    "        if appliance in self.appliance_states:\n",
    "            self.appliance_states[appliance] = state\n",
    "            return f\"{appliance} turned {'on' if state else 'off'}.\"\n",
    "        else:\n",
    "            return \"Invalid appliance.\"\n",
    "agent = SmartHomeEnergyAgent()\n",
    "print(f\"Electricity price: {agent.electricity_price:.2f}\")\n",
    "print(f\"Comfort preference: {agent.comfort_preference}\")\n",
    "print(f\"Appliance states: {agent.appliance_states}\")\n",
    "print(agent.recommend_actions())"
   ]
  },
  {
   "cell_type": "code",
   "execution_count": null,
   "id": "73c5db49-7854-48a0-956c-2bccbe8a0921",
   "metadata": {},
   "outputs": [],
   "source": []
  }
 ],
 "metadata": {
  "kernelspec": {
   "display_name": "Python 3 (ipykernel)",
   "language": "python",
   "name": "python3"
  },
  "language_info": {
   "codemirror_mode": {
    "name": "ipython",
    "version": 3
   },
   "file_extension": ".py",
   "mimetype": "text/x-python",
   "name": "python",
   "nbconvert_exporter": "python",
   "pygments_lexer": "ipython3",
   "version": "3.12.7"
  }
 },
 "nbformat": 4,
 "nbformat_minor": 5
}
