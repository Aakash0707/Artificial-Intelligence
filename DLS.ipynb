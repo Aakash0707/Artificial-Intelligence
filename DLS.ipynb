{
 "cells": [
  {
   "cell_type": "code",
   "execution_count": 1,
   "id": "f94ae83b",
   "metadata": {},
   "outputs": [
    {
     "name": "stdout",
     "output_type": "stream",
     "text": [
      "Depth-Limited Search from 0 with depth limit 2:\n",
      "0\n",
      "0 -> 1\n",
      "0 -> 1 -> 3\n",
      "0 -> 1 -> 4\n",
      "0 -> 2\n",
      "0 -> 2 -> 5\n",
      "0 -> 2 -> 6\n"
     ]
    }
   ],
   "source": [
    "class Graph:\n",
    "    def __init__(self):\n",
    "        self.graph = {}\n",
    "    \n",
    "    def add_edge(self, u, v):\n",
    "        if u not in self.graph:\n",
    "            self.graph[u] = []\n",
    "        if v not in self.graph:\n",
    "            self.graph[v] = []\n",
    "        \n",
    "        self.graph[u].append(v)\n",
    "        self.graph[v].append(u) \n",
    "\n",
    "    def dls(self, node, depth, path, visited):\n",
    "        path.append(node)\n",
    "        visited.add(node)\n",
    "        print(\" -> \".join(map(str, path)))\n",
    "        \n",
    "        if depth == 0:\n",
    "            path.pop()\n",
    "            return\n",
    "        \n",
    "        for neighbor in self.graph.get(node, []):\n",
    "            if neighbor not in visited:\n",
    "                self.dls(neighbor, depth - 1, path, visited)\n",
    "        \n",
    "        path.pop()\n",
    "        visited.remove(node)\n",
    "    \n",
    "    def depth_limited_search(self, start, limit):\n",
    "        print(f\"Depth-Limited Search from {start} with depth limit {limit}:\")\n",
    "        self.dls(start, limit, [], set())\n",
    "\n",
    "# Example Usage\n",
    "g = Graph()\n",
    "g.add_edge(0, 1)\n",
    "g.add_edge(0, 2)\n",
    "g.add_edge(1, 3)\n",
    "g.add_edge(1, 4)\n",
    "g.add_edge(2, 5)\n",
    "g.add_edge(2, 6)\n",
    "\n",
    "g.depth_limited_search(0, 2)\n"
   ]
  },
  {
   "cell_type": "code",
   "execution_count": null,
   "id": "b0dc5e73",
   "metadata": {},
   "outputs": [],
   "source": []
  }
 ],
 "metadata": {
  "kernelspec": {
   "display_name": "Python 3 (ipykernel)",
   "language": "python",
   "name": "python3"
  },
  "language_info": {
   "codemirror_mode": {
    "name": "ipython",
    "version": 3
   },
   "file_extension": ".py",
   "mimetype": "text/x-python",
   "name": "python",
   "nbconvert_exporter": "python",
   "pygments_lexer": "ipython3",
   "version": "3.11.3"
  }
 },
 "nbformat": 4,
 "nbformat_minor": 5
}
