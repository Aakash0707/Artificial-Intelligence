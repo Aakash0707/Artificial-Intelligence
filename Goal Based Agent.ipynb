{
 "cells": [
  {
   "cell_type": "code",
   "execution_count": 5,
   "id": "5a8fe552-3e16-4f6a-9c92-cdc174061929",
   "metadata": {},
   "outputs": [
    {
     "name": "stdout",
     "output_type": "stream",
     "text": [
      "You're on track with your savings goal!\n",
      "Updated expenses: 3200\n"
     ]
    }
   ],
   "source": [
    "class FinanceAgent:\n",
    "    def __init__(self, income, expenses, savings_goal):\n",
    "        self.income = income\n",
    "        self.expenses = expenses\n",
    "        self.savings_goal = savings_goal\n",
    "    \n",
    "    def calculate_savings(self):\n",
    "        return self.income - self.expenses\n",
    "    \n",
    "    def suggest_budget(self):\n",
    "        savings = self.calculate_savings()\n",
    "        if savings < self.savings_goal:\n",
    "            return \"Reduce expenses or increase income to meet savings goal.\"\n",
    "        else:\n",
    "            return \"You're on track with your savings goal!\"\n",
    "    \n",
    "    def track_expenses(self, new_expense):\n",
    "        self.expenses += new_expense\n",
    "        return f\"Updated expenses: {self.expenses}\"\n",
    "\n",
    "# Example usage\n",
    "agent = FinanceAgent(income=5000, expenses=3000, savings_goal=1000)\n",
    "print(agent.suggest_budget())\n",
    "print(agent.track_expenses(200))\n"
   ]
  },
  {
   "cell_type": "code",
   "execution_count": 11,
   "id": "ff81d7dd-5219-48be-8b29-c38b986e342c",
   "metadata": {},
   "outputs": [
    {
     "name": "stdout",
     "output_type": "stream",
     "text": [
      "Bought AAPL at $86.99\n",
      "No action taken\n",
      "No action taken\n"
     ]
    }
   ],
   "source": [
    "import random\n",
    "class StockInvestmentAgent:\n",
    "    def __init__(self, balance):\n",
    "        self.balance = balance\n",
    "        self.portfolio = {}\n",
    "    \n",
    "    def get_stock_price(self, stock):\n",
    "        return random.uniform(50, 300)  \n",
    "    \n",
    "    def decide_action(self, stock):\n",
    "        price = self.get_stock_price(stock)\n",
    "        if price < 100:\n",
    "            return \"Buy\"\n",
    "        elif price > 250:\n",
    "            return \"Sell\"\n",
    "        else:\n",
    "            return \"Hold\"\n",
    "    \n",
    "    def execute_trade(self, stock, action):\n",
    "        price = self.get_stock_price(stock)\n",
    "        if action == \"Buy\" and self.balance >= price:\n",
    "            self.portfolio[stock] = self.portfolio.get(stock, 0) + 1\n",
    "            self.balance -= price\n",
    "            return f\"Bought {stock} at ${price:.2f}\"\n",
    "        elif action == \"Sell\" and self.portfolio.get(stock, 0) > 0:\n",
    "            self.portfolio[stock] -= 1\n",
    "            self.balance += price\n",
    "            return f\"Sold {stock} at ${price:.2f}\"\n",
    "        else:\n",
    "            return \"No action taken\"\n",
    "agent = StockInvestmentAgent(balance=5000)\n",
    "stocks = [\"AAPL\", \"GOOGL\", \"TSLA\"]\n",
    "for stock in stocks:\n",
    "    action = agent.decide_action(stock)\n",
    "    print(agent.execute_trade(stock, action))"
   ]
  },
  {
   "cell_type": "code",
   "execution_count": null,
   "id": "07dfa538-d7b0-41f0-b547-c0bd040bac9e",
   "metadata": {},
   "outputs": [],
   "source": []
  }
 ],
 "metadata": {
  "kernelspec": {
   "display_name": "Python 3 (ipykernel)",
   "language": "python",
   "name": "python3"
  },
  "language_info": {
   "codemirror_mode": {
    "name": "ipython",
    "version": 3
   },
   "file_extension": ".py",
   "mimetype": "text/x-python",
   "name": "python",
   "nbconvert_exporter": "python",
   "pygments_lexer": "ipython3",
   "version": "3.12.7"
  }
 },
 "nbformat": 4,
 "nbformat_minor": 5
}
