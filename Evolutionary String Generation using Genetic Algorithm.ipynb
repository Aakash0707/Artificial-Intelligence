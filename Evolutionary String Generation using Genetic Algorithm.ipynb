{
 "cells": [
  {
   "cell_type": "code",
   "execution_count": 1,
   "id": "c01aa05e-84ac-470d-a9c1-1aae2facdcca",
   "metadata": {},
   "outputs": [
    {
     "name": "stdout",
     "output_type": "stream",
     "text": [
      "Generation 0: Best candidate = \"nbkYgh\" | Fitness = 4\n",
      "Generation 1: Best candidate = \"AaJosx\" | Fitness = 3\n",
      "Generation 2: Best candidate = \"AaWosh\" | Fitness = 2\n",
      "Generation 3: Best candidate = \"AaWosh\" | Fitness = 2\n",
      "Generation 4: Best candidate = \"AaWosh\" | Fitness = 2\n",
      "Generation 5: Best candidate = \"AaWosh\" | Fitness = 2\n",
      "Generation 6: Best candidate = \"Aakosh\" | Fitness = 1\n",
      "Generation 7: Best candidate = \"Aakosh\" | Fitness = 1\n",
      "Generation 8: Best candidate = \"Aakosh\" | Fitness = 1\n",
      "Generation 9: Best candidate = \"Aakosh\" | Fitness = 1\n",
      "Generation 10: Best candidate = \"Aakash\" | Fitness = 0\n",
      "Target found in generation 10: Aakash\n"
     ]
    },
    {
     "data": {
      "text/plain": [
       "'Aakash'"
      ]
     },
     "execution_count": 1,
     "metadata": {},
     "output_type": "execute_result"
    }
   ],
   "source": [
    "import random\n",
    "\n",
    "TARGET = \"Aakash\"\n",
    "POPULATION_SIZE = 100\n",
    "MUTATION_RATE = 0.1\n",
    "GENERATIONS = 1000\n",
    "\n",
    "def random_string(length):\n",
    "    return ''.join(random.choice(\"ABCDEFGHIJKLMNOPQRSTUVWXYZabcdefghijklmnopqrstuvwxyz\") for _ in range(length))\n",
    "\n",
    "def initialize_population():\n",
    "    return [random_string(len(TARGET)) for _ in range(POPULATION_SIZE)]\n",
    "\n",
    "def calculate_fitness(chromosome):\n",
    "    return sum(1 for i in range(len(TARGET)) if chromosome[i] != TARGET[i])\n",
    "\n",
    "def select_parents(population):\n",
    "    population.sort(key=calculate_fitness)\n",
    "    return population[:POPULATION_SIZE // 2]\n",
    "\n",
    "def crossover(parent1, parent2):\n",
    "    point = random.randint(1, len(TARGET) - 1)\n",
    "    child1 = parent1[:point] + parent2[point:]\n",
    "    child2 = parent2[:point] + parent1[point:]\n",
    "    return child1, child2\n",
    "\n",
    "def mutate(chromosome):\n",
    "    if random.random() < MUTATION_RATE:\n",
    "        index = random.randint(0, len(TARGET) - 1)\n",
    "        new_char = random.choice(\"ABCDEFGHIJKLMNOPQRSTUVWXYZabcdefghijklmnopqrstuvwxyz\")\n",
    "        chromosome = chromosome[:index] + new_char + chromosome[index + 1:]\n",
    "    return chromosome\n",
    "\n",
    "def genetic_algorithm():\n",
    "    population = initialize_population()\n",
    "    for generation in range(GENERATIONS):\n",
    "        parents = select_parents(population)\n",
    "        offspring = []\n",
    "        \n",
    "        for i in range(0, len(parents), 2):\n",
    "            if i + 1 < len(parents):\n",
    "                child1, child2 = crossover(parents[i], parents[i + 1])\n",
    "                offspring.extend([mutate(child1), mutate(child2)])\n",
    "        \n",
    "        population = parents + offspring\n",
    "        \n",
    "        best_candidate = min(population, key=calculate_fitness)\n",
    "        print(f\"Generation {generation}: Best candidate = \\\"{best_candidate}\\\" | Fitness = {calculate_fitness(best_candidate)}\")\n",
    "        if calculate_fitness(best_candidate) == 0:\n",
    "            print(f\"Target found in generation {generation}: {best_candidate}\")\n",
    "            return best_candidate\n",
    "    \n",
    "    print(\"Target not found within the generation limit.\")\n",
    "    return None\n",
    "\n",
    "genetic_algorithm()\n"
   ]
  },
  {
   "cell_type": "code",
   "execution_count": null,
   "id": "afb8e1c2-cc46-47a2-b355-b8dedd14587e",
   "metadata": {},
   "outputs": [],
   "source": []
  },
  {
   "cell_type": "code",
   "execution_count": null,
   "id": "8f18d98d-5b35-475f-a20b-9edab88448bf",
   "metadata": {},
   "outputs": [],
   "source": []
  }
 ],
 "metadata": {
  "kernelspec": {
   "display_name": "Python 3 (ipykernel)",
   "language": "python",
   "name": "python3"
  },
  "language_info": {
   "codemirror_mode": {
    "name": "ipython",
    "version": 3
   },
   "file_extension": ".py",
   "mimetype": "text/x-python",
   "name": "python",
   "nbconvert_exporter": "python",
   "pygments_lexer": "ipython3",
   "version": "3.12.7"
  }
 },
 "nbformat": 4,
 "nbformat_minor": 5
}
