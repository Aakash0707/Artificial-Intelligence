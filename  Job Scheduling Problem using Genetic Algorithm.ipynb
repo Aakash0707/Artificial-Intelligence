{
 "cells": [
  {
   "cell_type": "code",
   "execution_count": 1,
   "id": "224ac8f6",
   "metadata": {},
   "outputs": [
    {
     "name": "stdout",
     "output_type": "stream",
     "text": [
      "Best job assignment: [[0 0]\n",
      " [1 2]\n",
      " [2 2]\n",
      " [3 0]\n",
      " [4 1]\n",
      " [5 1]]\n",
      "Machine loads: [10, 8, 10]\n"
     ]
    }
   ],
   "source": [
    "import random\n",
    "import numpy as np\n",
    "\n",
    "job_times = [2, 4, 6, 8, 3, 5]\n",
    "machines = 3\n",
    "population_size = 10\n",
    "generations = 100\n",
    "\n",
    "def initialize_population(jobs, machines, pop_size):\n",
    "    return [np.array([(j, random.randint(0, machines - 1)) for j in range(len(jobs))]) for _ in range(pop_size)]\n",
    "\n",
    "def fitness(chromosome):\n",
    "    loads = [0] * machines\n",
    "    for job_id, machine_id in chromosome:\n",
    "        loads[machine_id] += job_times[job_id]\n",
    "    return 1 / (sum([l**2 for l in loads]) + 0.01)\n",
    "\n",
    "def crossover(parent1, parent2):\n",
    "    cut1, cut2 = sorted(random.sample(range(len(parent1)), 2))\n",
    "    child1 = np.concatenate((parent1[:cut1], parent2[cut1:cut2], parent1[cut2:]))\n",
    "    child2 = np.concatenate((parent2[:cut1], parent1[cut1:cut2], parent2[cut2:]))\n",
    "    return child1, child2\n",
    "\n",
    "def mutate(chromosome):\n",
    "    idx = random.randint(0, len(chromosome) - 1)\n",
    "    chromosome[idx] = (chromosome[idx][0], random.randint(0, machines - 1))\n",
    "    return chromosome\n",
    "\n",
    "def roulette_selection(population, fitnesses):\n",
    "    total = sum(fitnesses)\n",
    "    pick = random.uniform(0, total)\n",
    "    current = 0\n",
    "    for chrom, fit in zip(population, fitnesses):\n",
    "        current += fit\n",
    "        if current > pick:\n",
    "            return chrom\n",
    "\n",
    "population = initialize_population(job_times, machines, population_size)\n",
    "\n",
    "for gen in range(generations):\n",
    "    fitnesses = [fitness(chrom) for chrom in population]\n",
    "    new_population = []\n",
    "    for _ in range(population_size // 2):\n",
    "        parent1 = roulette_selection(population, fitnesses)\n",
    "        parent2 = roulette_selection(population, fitnesses)\n",
    "        child1, child2 = crossover(parent1, parent2)\n",
    "        if random.random() < 0.1:\n",
    "            child1 = mutate(child1)\n",
    "        if random.random() < 0.1:\n",
    "            child2 = mutate(child2)\n",
    "        new_population.extend([child1, child2])\n",
    "    population = new_population\n",
    "\n",
    "best_solution = max(population, key=fitness)\n",
    "machine_loads = [0] * machines\n",
    "for job_id, machine_id in best_solution:\n",
    "    machine_loads[machine_id] += job_times[job_id]\n",
    "\n",
    "print(\"Best job assignment:\", best_solution)\n",
    "print(\"Machine loads:\", machine_loads)"
   ]
  },
  {
   "cell_type": "code",
   "execution_count": null,
   "id": "9cf78c86",
   "metadata": {},
   "outputs": [],
   "source": []
  }
 ],
 "metadata": {
  "kernelspec": {
   "display_name": "Python 3 (ipykernel)",
   "language": "python",
   "name": "python3"
  },
  "language_info": {
   "codemirror_mode": {
    "name": "ipython",
    "version": 3
   },
   "file_extension": ".py",
   "mimetype": "text/x-python",
   "name": "python",
   "nbconvert_exporter": "python",
   "pygments_lexer": "ipython3",
   "version": "3.11.3"
  }
 },
 "nbformat": 4,
 "nbformat_minor": 5
}
